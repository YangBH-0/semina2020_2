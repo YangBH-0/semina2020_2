{
 "cells": [
  {
   "cell_type": "code",
   "execution_count": 3,
   "metadata": {},
   "outputs": [],
   "source": [
    "import json\n",
    "\n",
    "file_path = \"./config.json\" # 쓸 파일 이름\n",
    "\n",
    "data = {\n",
    "    \"PORT\": 11201,\n",
    "    \"DB_Host\":'203.234.62.115',\n",
    "    \"DB_User\": \"dsem_iot\",\n",
    "    \"DB_password\": \"dsem_iot\",\n",
    "    \"DB_name\": \"DeviceRegistry\",\n",
    "    \"Specific_table_name\": \"specific_metadata\",\n",
    "    \"Device_Register_table_name\": \"device_list\"\n",
    "}\n",
    "\n",
    "\n",
    "with open(file_path, 'w') as outfile:\n",
    "    json.dump(data, outfile) # 파일 쓰는 곳\n"
   ]
  },
  {
   "cell_type": "code",
   "execution_count": null,
   "metadata": {},
   "outputs": [],
   "source": []
  }
 ],
 "metadata": {
  "kernelspec": {
   "display_name": "Python 3",
   "language": "python",
   "name": "python3"
  },
  "language_info": {
   "codemirror_mode": {
    "name": "ipython",
    "version": 3
   },
   "file_extension": ".py",
   "mimetype": "text/x-python",
   "name": "python",
   "nbconvert_exporter": "python",
   "pygments_lexer": "ipython3",
   "version": "3.8.3"
  }
 },
 "nbformat": 4,
 "nbformat_minor": 4
}
